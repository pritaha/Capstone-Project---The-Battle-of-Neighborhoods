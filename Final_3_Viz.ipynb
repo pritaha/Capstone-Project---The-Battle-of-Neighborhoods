{
 "cells": [
  {
   "cell_type": "code",
   "execution_count": 1,
   "metadata": {},
   "outputs": [],
   "source": [
    "# Things to import\n",
    "import pandas as pd \n",
    "import requests\n",
    "import io\n",
    "\n",
    "# map rendering library\n",
    "import folium \n",
    "# Matplotlib and associated plotting modules\n",
    "import matplotlib.cm as cm\n",
    "import matplotlib.colors as colors"
   ]
  },
  {
   "cell_type": "markdown",
   "metadata": {},
   "source": [
    "Load the dataset"
   ]
  },
  {
   "cell_type": "code",
   "execution_count": 2,
   "metadata": {},
   "outputs": [
    {
     "data": {
      "text/html": [
       "<div>\n",
       "<style scoped>\n",
       "    .dataframe tbody tr th:only-of-type {\n",
       "        vertical-align: middle;\n",
       "    }\n",
       "\n",
       "    .dataframe tbody tr th {\n",
       "        vertical-align: top;\n",
       "    }\n",
       "\n",
       "    .dataframe thead th {\n",
       "        text-align: right;\n",
       "    }\n",
       "</style>\n",
       "<table border=\"1\" class=\"dataframe\">\n",
       "  <thead>\n",
       "    <tr style=\"text-align: right;\">\n",
       "      <th></th>\n",
       "      <th>Unnamed: 0</th>\n",
       "      <th>Unnamed: 0.1</th>\n",
       "      <th>Neighborhood</th>\n",
       "      <th>Neighborhood Latitude</th>\n",
       "      <th>Neighborhood Longitude</th>\n",
       "      <th>Venue</th>\n",
       "      <th>Venue Latitude</th>\n",
       "      <th>Venue Longitude</th>\n",
       "      <th>Venue Category</th>\n",
       "    </tr>\n",
       "  </thead>\n",
       "  <tbody>\n",
       "    <tr>\n",
       "      <th>0</th>\n",
       "      <td>6</td>\n",
       "      <td>13</td>\n",
       "      <td>Palacio</td>\n",
       "      <td>40.415</td>\n",
       "      <td>-3.713</td>\n",
       "      <td>Turkana, El Bar.</td>\n",
       "      <td>40.413802</td>\n",
       "      <td>-3.711712</td>\n",
       "      <td>Bar</td>\n",
       "    </tr>\n",
       "    <tr>\n",
       "      <th>1</th>\n",
       "      <td>7</td>\n",
       "      <td>16</td>\n",
       "      <td>Palacio</td>\n",
       "      <td>40.415</td>\n",
       "      <td>-3.713</td>\n",
       "      <td>Korgui Bar Gastronómico</td>\n",
       "      <td>40.413913</td>\n",
       "      <td>-3.711304</td>\n",
       "      <td>Gastropub</td>\n",
       "    </tr>\n",
       "    <tr>\n",
       "      <th>2</th>\n",
       "      <td>13</td>\n",
       "      <td>26</td>\n",
       "      <td>Palacio</td>\n",
       "      <td>40.415</td>\n",
       "      <td>-3.713</td>\n",
       "      <td>Pinkleton &amp; Wine</td>\n",
       "      <td>40.415390</td>\n",
       "      <td>-3.709050</td>\n",
       "      <td>Wine Bar</td>\n",
       "    </tr>\n",
       "    <tr>\n",
       "      <th>3</th>\n",
       "      <td>19</td>\n",
       "      <td>34</td>\n",
       "      <td>Palacio</td>\n",
       "      <td>40.415</td>\n",
       "      <td>-3.713</td>\n",
       "      <td>El Estudio de los Arquitectos</td>\n",
       "      <td>40.412527</td>\n",
       "      <td>-3.710673</td>\n",
       "      <td>Cocktail Bar</td>\n",
       "    </tr>\n",
       "    <tr>\n",
       "      <th>4</th>\n",
       "      <td>33</td>\n",
       "      <td>56</td>\n",
       "      <td>Palacio</td>\n",
       "      <td>40.415</td>\n",
       "      <td>-3.713</td>\n",
       "      <td>Bodegas Ricla</td>\n",
       "      <td>40.414266</td>\n",
       "      <td>-3.708077</td>\n",
       "      <td>Wine Bar</td>\n",
       "    </tr>\n",
       "  </tbody>\n",
       "</table>\n",
       "</div>"
      ],
      "text/plain": [
       "   Unnamed: 0  Unnamed: 0.1 Neighborhood  Neighborhood Latitude  \\\n",
       "0           6            13      Palacio                 40.415   \n",
       "1           7            16      Palacio                 40.415   \n",
       "2          13            26      Palacio                 40.415   \n",
       "3          19            34      Palacio                 40.415   \n",
       "4          33            56      Palacio                 40.415   \n",
       "\n",
       "   Neighborhood Longitude                          Venue  Venue Latitude  \\\n",
       "0                  -3.713               Turkana, El Bar.       40.413802   \n",
       "1                  -3.713        Korgui Bar Gastronómico       40.413913   \n",
       "2                  -3.713               Pinkleton & Wine       40.415390   \n",
       "3                  -3.713  El Estudio de los Arquitectos       40.412527   \n",
       "4                  -3.713                  Bodegas Ricla       40.414266   \n",
       "\n",
       "   Venue Longitude Venue Category  \n",
       "0        -3.711712            Bar  \n",
       "1        -3.711304      Gastropub  \n",
       "2        -3.709050       Wine Bar  \n",
       "3        -3.710673   Cocktail Bar  \n",
       "4        -3.708077       Wine Bar  "
      ]
     },
     "execution_count": 2,
     "metadata": {},
     "output_type": "execute_result"
    }
   ],
   "source": [
    "xl = pd.ExcelFile(\"madrid_drinking.xlsx\")\n",
    "xl.sheet_names\n",
    "[u'Sheet1']\n",
    "madrid_drinking = xl.parse(\"Sheet1\")\n",
    "madrid_drinking.head()"
   ]
  },
  {
   "cell_type": "markdown",
   "metadata": {},
   "source": [
    "Set coordinates for the city of Madrid"
   ]
  },
  {
   "cell_type": "code",
   "execution_count": 3,
   "metadata": {},
   "outputs": [
    {
     "name": "stdout",
     "output_type": "stream",
     "text": [
      "The geograpical coordinate of Madrid are 40.416775, -3.70379.\n"
     ]
    }
   ],
   "source": [
    "latitude = 40.416775\n",
    "longitude = -3.703790\n",
    "print('The geograpical coordinate of Madrid are {}, {}.'.format(latitude, longitude))"
   ]
  },
  {
   "cell_type": "markdown",
   "metadata": {},
   "source": [
    "Generate a map with labels of the estabablishments (drinking places in this case)"
   ]
  },
  {
   "cell_type": "code",
   "execution_count": null,
   "metadata": {},
   "outputs": [],
   "source": [
    "map_drinking = folium.Map(location=[latitude, longitude], zoom_start=11)\n",
    "\n",
    "# add markers to map\n",
    "for lat, lng, label in zip(madrid_drinking['Venue Latitude'], madrid_drinking['Venue Longitude'], madrid_drinking['Venue']):\n",
    "    label = folium.Popup(label, parse_html=True)\n",
    "    folium.CircleMarker(\n",
    "        [lat, lng],\n",
    "        radius=5,\n",
    "        popup=label,\n",
    "        color='blue',\n",
    "        fill=True,\n",
    "        fill_color='#3186cc',\n",
    "        fill_opacity=0.7,\n",
    "        parse_html=False).add_to(map_drinking)  \n",
    "    \n",
    "map_drinking"
   ]
  },
  {
   "cell_type": "markdown",
   "metadata": {},
   "source": [
    "Repeat the process"
   ]
  },
  {
   "cell_type": "code",
   "execution_count": null,
   "metadata": {},
   "outputs": [],
   "source": [
    "xl = pd.ExcelFile(\"madrid_local.xlsx\")\n",
    "xl.sheet_names\n",
    "[u'Sheet1']\n",
    "madrid_local = xl.parse(\"Sheet1\")\n",
    "madrid_local.head()"
   ]
  },
  {
   "cell_type": "code",
   "execution_count": null,
   "metadata": {},
   "outputs": [],
   "source": [
    "map_local = folium.Map(location=[latitude, longitude], zoom_start=11)\n",
    "\n",
    "# add markers to map\n",
    "for lat, lng, label in zip(madrid_local['Venue Latitude'], madrid_local['Venue Longitude'], madrid_local['Venue']):\n",
    "    label = folium.Popup(label, parse_html=True)\n",
    "    folium.CircleMarker(\n",
    "        [lat, lng],\n",
    "        radius=5,\n",
    "        popup=label,\n",
    "        color='blue',\n",
    "        fill=True,\n",
    "        fill_color='#3186cc',\n",
    "        fill_opacity=0.7,\n",
    "        parse_html=False).add_to(map_local)  \n",
    "    \n",
    "map_local"
   ]
  },
  {
   "cell_type": "code",
   "execution_count": null,
   "metadata": {},
   "outputs": [],
   "source": [
    "xl = pd.ExcelFile(\"madrid_african.xlsx\")\n",
    "xl.sheet_names\n",
    "[u'Sheet1']\n",
    "madrid_african = xl.parse(\"Sheet1\")\n",
    "madrid_african.head()"
   ]
  },
  {
   "cell_type": "code",
   "execution_count": null,
   "metadata": {},
   "outputs": [],
   "source": [
    "map_african = folium.Map(location=[latitude, longitude], zoom_start=11)\n",
    "\n",
    "# add markers to map\n",
    "for lat, lng, label in zip(madrid_african['Venue Latitude'], madrid_african['Venue Longitude'], madrid_african['Venue']):\n",
    "    label = folium.Popup(label, parse_html=True)\n",
    "    folium.CircleMarker(\n",
    "        [lat, lng],\n",
    "        radius=5,\n",
    "        popup=label,\n",
    "        color='blue',\n",
    "        fill=True,\n",
    "        fill_color='#3186cc',\n",
    "        fill_opacity=0.7,\n",
    "        parse_html=False).add_to(map_african)  \n",
    "    \n",
    "map_african"
   ]
  },
  {
   "cell_type": "code",
   "execution_count": null,
   "metadata": {},
   "outputs": [],
   "source": [
    "xl = pd.ExcelFile(\"madrid_american.xlsx\")\n",
    "xl.sheet_names\n",
    "[u'Sheet1']\n",
    "madrid_american = xl.parse(\"Sheet1\")\n",
    "madrid_american.head()"
   ]
  },
  {
   "cell_type": "code",
   "execution_count": null,
   "metadata": {},
   "outputs": [],
   "source": [
    "map_american = folium.Map(location=[latitude, longitude], zoom_start=11)\n",
    "\n",
    "# add markers to map\n",
    "for lat, lng, label in zip(madrid_american['Venue Latitude'], madrid_american['Venue Longitude'], madrid_american['Venue']):\n",
    "    label = folium.Popup(label, parse_html=True)\n",
    "    folium.CircleMarker(\n",
    "        [lat, lng],\n",
    "        radius=5,\n",
    "        popup=label,\n",
    "        color='blue',\n",
    "        fill=True,\n",
    "        fill_color='#3186cc',\n",
    "        fill_opacity=0.7,\n",
    "        parse_html=False).add_to(map_american)  \n",
    "    \n",
    "map_american"
   ]
  },
  {
   "cell_type": "code",
   "execution_count": null,
   "metadata": {},
   "outputs": [],
   "source": [
    "xl = pd.ExcelFile(\"madrid_asian.xlsx\")\n",
    "xl.sheet_names\n",
    "[u'Sheet1']\n",
    "madrid_asian = xl.parse(\"Sheet1\")\n",
    "madrid_asian.head()"
   ]
  },
  {
   "cell_type": "code",
   "execution_count": null,
   "metadata": {},
   "outputs": [],
   "source": [
    "map_asian = folium.Map(location=[latitude, longitude], zoom_start=11)\n",
    "\n",
    "# add markers to map\n",
    "for lat, lng, label in zip(madrid_asian['Venue Latitude'], madrid_asian['Venue Longitude'], madrid_asian['Venue']):\n",
    "    label = folium.Popup(label, parse_html=True)\n",
    "    folium.CircleMarker(\n",
    "        [lat, lng],\n",
    "        radius=5,\n",
    "        popup=label,\n",
    "        color='blue',\n",
    "        fill=True,\n",
    "        fill_color='#3186cc',\n",
    "        fill_opacity=0.7,\n",
    "        parse_html=False).add_to(map_asian)  \n",
    "    \n",
    "map_asian"
   ]
  },
  {
   "cell_type": "code",
   "execution_count": null,
   "metadata": {},
   "outputs": [],
   "source": [
    "xl = pd.ExcelFile(\"madrid_desserts.xlsx\")\n",
    "xl.sheet_names\n",
    "[u'Sheet1']\n",
    "madrid_desserts = xl.parse(\"Sheet1\")\n",
    "madrid_desserts.head()"
   ]
  },
  {
   "cell_type": "code",
   "execution_count": null,
   "metadata": {},
   "outputs": [],
   "source": [
    "map_desserts = folium.Map(location=[latitude, longitude], zoom_start=11)\n",
    "\n",
    "# add markers to map\n",
    "for lat, lng, label in zip(madrid_desserts['Venue Latitude'], madrid_desserts['Venue Longitude'], madrid_desserts['Venue']):\n",
    "    label = folium.Popup(label, parse_html=True)\n",
    "    folium.CircleMarker(\n",
    "        [lat, lng],\n",
    "        radius=5,\n",
    "        popup=label,\n",
    "        color='blue',\n",
    "        fill=True,\n",
    "        fill_color='#3186cc',\n",
    "        fill_opacity=0.7,\n",
    "        parse_html=False).add_to(map_desserts)  \n",
    "    \n",
    "map_desserts"
   ]
  },
  {
   "cell_type": "code",
   "execution_count": null,
   "metadata": {},
   "outputs": [],
   "source": [
    "xl = pd.ExcelFile(\"madrid_european.xlsx\")\n",
    "xl.sheet_names\n",
    "[u'Sheet1']\n",
    "madrid_european = xl.parse(\"Sheet1\")\n",
    "madrid_european.head()"
   ]
  },
  {
   "cell_type": "code",
   "execution_count": null,
   "metadata": {},
   "outputs": [],
   "source": [
    "map_european = folium.Map(location=[latitude, longitude], zoom_start=11)\n",
    "\n",
    "# add markers to map\n",
    "for lat, lng, label in zip(madrid_european['Venue Latitude'], madrid_european['Venue Longitude'], madrid_european['Venue']):\n",
    "    label = folium.Popup(label, parse_html=True)\n",
    "    folium.CircleMarker(\n",
    "        [lat, lng],\n",
    "        radius=5,\n",
    "        popup=label,\n",
    "        color='blue',\n",
    "        fill=True,\n",
    "        fill_color='#3186cc',\n",
    "        fill_opacity=0.7,\n",
    "        parse_html=False).add_to(map_european)  \n",
    "    \n",
    "map_european"
   ]
  },
  {
   "cell_type": "code",
   "execution_count": null,
   "metadata": {},
   "outputs": [],
   "source": [
    "xl = pd.ExcelFile(\"madrid_fastfood.xlsx\")\n",
    "xl.sheet_names\n",
    "[u'Sheet1']\n",
    "madrid_fastfood = xl.parse(\"Sheet1\")\n",
    "madrid_fastfood.head()"
   ]
  },
  {
   "cell_type": "code",
   "execution_count": null,
   "metadata": {},
   "outputs": [],
   "source": [
    "map_fastfood = folium.Map(location=[latitude, longitude], zoom_start=11)\n",
    "\n",
    "# add markers to map\n",
    "for lat, lng, label in zip(madrid_fastfood['Venue Latitude'], madrid_fastfood['Venue Longitude'], madrid_fastfood['Venue']):\n",
    "    label = folium.Popup(label, parse_html=True)\n",
    "    folium.CircleMarker(\n",
    "        [lat, lng],\n",
    "        radius=5,\n",
    "        popup=label,\n",
    "        color='blue',\n",
    "        fill=True,\n",
    "        fill_color='#3186cc',\n",
    "        fill_opacity=0.7,\n",
    "        parse_html=False).add_to(map_fastfood)  \n",
    "    \n",
    "map_fastfood"
   ]
  },
  {
   "cell_type": "code",
   "execution_count": null,
   "metadata": {},
   "outputs": [],
   "source": [
    "xl = pd.ExcelFile(\"madrid_latino.xlsx\")\n",
    "xl.sheet_names\n",
    "[u'Sheet1']\n",
    "madrid_latino = xl.parse(\"Sheet1\")\n",
    "madrid_latino.head()"
   ]
  },
  {
   "cell_type": "code",
   "execution_count": null,
   "metadata": {},
   "outputs": [],
   "source": [
    "map_latino = folium.Map(location=[latitude, longitude], zoom_start=11)\n",
    "\n",
    "# add markers to map\n",
    "for lat, lng, label in zip(madrid_latino['Venue Latitude'], madrid_latino['Venue Longitude'], madrid_latino['Venue']):\n",
    "    label = folium.Popup(label, parse_html=True)\n",
    "    folium.CircleMarker(\n",
    "        [lat, lng],\n",
    "        radius=5,\n",
    "        popup=label,\n",
    "        color='blue',\n",
    "        fill=True,\n",
    "        fill_color='#3186cc',\n",
    "        fill_opacity=0.7,\n",
    "        parse_html=False).add_to(map_latino)  \n",
    "    \n",
    "map_latino"
   ]
  },
  {
   "cell_type": "code",
   "execution_count": null,
   "metadata": {},
   "outputs": [],
   "source": [
    "xl = pd.ExcelFile(\"madrid_middleeast.xlsx\")\n",
    "xl.sheet_names\n",
    "[u'Sheet1']\n",
    "madrid_middleeast = xl.parse(\"Sheet1\")\n",
    "madrid_middleeast.head()"
   ]
  },
  {
   "cell_type": "code",
   "execution_count": null,
   "metadata": {},
   "outputs": [],
   "source": [
    "map_middleeast = folium.Map(location=[latitude, longitude], zoom_start=11)\n",
    "\n",
    "# add markers to map\n",
    "for lat, lng, label in zip(madrid_middleeast['Venue Latitude'], madrid_middleeast['Venue Longitude'], madrid_middleeast['Venue']):\n",
    "    label = folium.Popup(label, parse_html=True)\n",
    "    folium.CircleMarker(\n",
    "        [lat, lng],\n",
    "        radius=5,\n",
    "        popup=label,\n",
    "        color='blue',\n",
    "        fill=True,\n",
    "        fill_color='#3186cc',\n",
    "        fill_opacity=0.7,\n",
    "        parse_html=False).add_to(map_middleeast)  \n",
    "    \n",
    "map_middleeast"
   ]
  },
  {
   "cell_type": "code",
   "execution_count": null,
   "metadata": {},
   "outputs": [],
   "source": [
    "xl = pd.ExcelFile(\"madrid_special.xlsx\")\n",
    "xl.sheet_names\n",
    "[u'Sheet1']\n",
    "madrid_special = xl.parse(\"Sheet1\")\n",
    "madrid_special.head()"
   ]
  },
  {
   "cell_type": "code",
   "execution_count": null,
   "metadata": {},
   "outputs": [],
   "source": [
    "map_special = folium.Map(location=[latitude, longitude], zoom_start=11)\n",
    "\n",
    "# add markers to map\n",
    "for lat, lng, label in zip(madrid_special['Venue Latitude'], madrid_special['Venue Longitude'], madrid_special['Venue']):\n",
    "    label = folium.Popup(label, parse_html=True)\n",
    "    folium.CircleMarker(\n",
    "        [lat, lng],\n",
    "        radius=5,\n",
    "        popup=label,\n",
    "        color='blue',\n",
    "        fill=True,\n",
    "        fill_color='#3186cc',\n",
    "        fill_opacity=0.7,\n",
    "        parse_html=False).add_to(map_special)  \n",
    "    \n",
    "map_special"
   ]
  },
  {
   "cell_type": "code",
   "execution_count": null,
   "metadata": {},
   "outputs": [],
   "source": [
    "xl = pd.ExcelFile(\"madrid_restbars.xlsx\")\n",
    "xl.sheet_names\n",
    "[u'Sheet1']\n",
    "madrid_restbars = xl.parse(\"Sheet1\")\n",
    "madrid_restbars.head()"
   ]
  },
  {
   "cell_type": "code",
   "execution_count": null,
   "metadata": {},
   "outputs": [],
   "source": [
    "map_restbars = folium.Map(location=[latitude, longitude], zoom_start=11)\n",
    "\n",
    "# add markers to map\n",
    "for lat, lng, label in zip(madrid_restbars['Venue Latitude'], madrid_restbars['Venue Longitude'], madrid_restbars['Venue']):\n",
    "    label = folium.Popup(label, parse_html=True)\n",
    "    folium.CircleMarker(\n",
    "        [lat, lng],\n",
    "        radius=5,\n",
    "        popup=label,\n",
    "        color='blue',\n",
    "        fill=True,\n",
    "        fill_color='#3186cc',\n",
    "        fill_opacity=0.7,\n",
    "        parse_html=False).add_to(map_restbars)  \n",
    "    \n",
    "map_restbars"
   ]
  },
  {
   "cell_type": "code",
   "execution_count": null,
   "metadata": {},
   "outputs": [],
   "source": []
  },
  {
   "cell_type": "code",
   "execution_count": null,
   "metadata": {},
   "outputs": [],
   "source": []
  }
 ],
 "metadata": {
  "kernelspec": {
   "display_name": "Python 3",
   "language": "python",
   "name": "python3"
  },
  "language_info": {
   "codemirror_mode": {
    "name": "ipython",
    "version": 3
   },
   "file_extension": ".py",
   "mimetype": "text/x-python",
   "name": "python",
   "nbconvert_exporter": "python",
   "pygments_lexer": "ipython3",
   "version": "3.6.8"
  }
 },
 "nbformat": 4,
 "nbformat_minor": 2
}
